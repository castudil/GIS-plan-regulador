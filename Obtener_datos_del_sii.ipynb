{
  "cells": [
    {
      "cell_type": "code",
      "execution_count": 8,
      "metadata": {
        "id": "3zCX7-b3cv1l"
      },
      "outputs": [],
      "source": [
        "import requests\n",
        "import pandas\n",
        "from io import BytesIO\n",
        "from PIL import Image"
      ]
    },
    {
      "attachments": {},
      "cell_type": "markdown",
      "metadata": {},
      "source": [
        "Url de la API SII para obtener los detalles catastarles"
      ]
    },
    {
      "cell_type": "code",
      "execution_count": null,
      "metadata": {
        "id": "zab8freRdAvN"
      },
      "outputs": [],
      "source": [
        "url = \"https://www4.sii.cl/mapasui/services/data/mapasFacadeService/getPredioNacional\""
      ]
    },
    {
      "attachments": {},
      "cell_type": "markdown",
      "metadata": {
        "id": "_50vjTn1d0iR"
      },
      "source": [
        "Página con datos parciales del detalle catastral de cada predio, se puede usar para los valores obtener: \n",
        "- comuna\n",
        "- manzana\n",
        "- predio\n",
        "\n",
        "https://www4.sii.cl/sismunInternet/?caller=DETALLE_CAT_Y_ROL_COBRO"
      ]
    },
    {
      "cell_type": "code",
      "execution_count": null,
      "metadata": {
        "colab": {
          "base_uri": "https://localhost:8080/",
          "height": 204
        },
        "id": "piG-ujghlYyr",
        "outputId": "d5765157-86c6-414e-88de-fee50d500f71"
      },
      "outputs": [
        {
          "data": {
            "text/html": [
              "\n",
              "  <div id=\"df-8e8747cb-3dc4-4f90-8fe9-c5ab01f778ee\">\n",
              "    <div class=\"colab-df-container\">\n",
              "      <div>\n",
              "<style scoped>\n",
              "    .dataframe tbody tr th:only-of-type {\n",
              "        vertical-align: middle;\n",
              "    }\n",
              "\n",
              "    .dataframe tbody tr th {\n",
              "        vertical-align: top;\n",
              "    }\n",
              "\n",
              "    .dataframe thead th {\n",
              "        text-align: right;\n",
              "    }\n",
              "</style>\n",
              "<table border=\"1\" class=\"dataframe\">\n",
              "  <thead>\n",
              "    <tr style=\"text-align: right;\">\n",
              "      <th></th>\n",
              "      <th>Código SII de la Comuna</th>\n",
              "      <th>Número de Manzana</th>\n",
              "      <th>Número de Predial</th>\n",
              "    </tr>\n",
              "  </thead>\n",
              "  <tbody>\n",
              "    <tr>\n",
              "      <th>0</th>\n",
              "      <td>7101</td>\n",
              "      <td>6</td>\n",
              "      <td>15</td>\n",
              "    </tr>\n",
              "    <tr>\n",
              "      <th>1</th>\n",
              "      <td>7101</td>\n",
              "      <td>6</td>\n",
              "      <td>16</td>\n",
              "    </tr>\n",
              "    <tr>\n",
              "      <th>2</th>\n",
              "      <td>7101</td>\n",
              "      <td>6</td>\n",
              "      <td>17</td>\n",
              "    </tr>\n",
              "    <tr>\n",
              "      <th>3</th>\n",
              "      <td>7101</td>\n",
              "      <td>6</td>\n",
              "      <td>18</td>\n",
              "    </tr>\n",
              "    <tr>\n",
              "      <th>4</th>\n",
              "      <td>7101</td>\n",
              "      <td>6</td>\n",
              "      <td>23</td>\n",
              "    </tr>\n",
              "  </tbody>\n",
              "</table>\n",
              "</div>\n",
              "      <button class=\"colab-df-convert\" onclick=\"convertToInteractive('df-8e8747cb-3dc4-4f90-8fe9-c5ab01f778ee')\"\n",
              "              title=\"Convert this dataframe to an interactive table.\"\n",
              "              style=\"display:none;\">\n",
              "        \n",
              "  <svg xmlns=\"http://www.w3.org/2000/svg\" height=\"24px\"viewBox=\"0 0 24 24\"\n",
              "       width=\"24px\">\n",
              "    <path d=\"M0 0h24v24H0V0z\" fill=\"none\"/>\n",
              "    <path d=\"M18.56 5.44l.94 2.06.94-2.06 2.06-.94-2.06-.94-.94-2.06-.94 2.06-2.06.94zm-11 1L8.5 8.5l.94-2.06 2.06-.94-2.06-.94L8.5 2.5l-.94 2.06-2.06.94zm10 10l.94 2.06.94-2.06 2.06-.94-2.06-.94-.94-2.06-.94 2.06-2.06.94z\"/><path d=\"M17.41 7.96l-1.37-1.37c-.4-.4-.92-.59-1.43-.59-.52 0-1.04.2-1.43.59L10.3 9.45l-7.72 7.72c-.78.78-.78 2.05 0 2.83L4 21.41c.39.39.9.59 1.41.59.51 0 1.02-.2 1.41-.59l7.78-7.78 2.81-2.81c.8-.78.8-2.07 0-2.86zM5.41 20L4 18.59l7.72-7.72 1.47 1.35L5.41 20z\"/>\n",
              "  </svg>\n",
              "      </button>\n",
              "      \n",
              "  <style>\n",
              "    .colab-df-container {\n",
              "      display:flex;\n",
              "      flex-wrap:wrap;\n",
              "      gap: 12px;\n",
              "    }\n",
              "\n",
              "    .colab-df-convert {\n",
              "      background-color: #E8F0FE;\n",
              "      border: none;\n",
              "      border-radius: 50%;\n",
              "      cursor: pointer;\n",
              "      display: none;\n",
              "      fill: #1967D2;\n",
              "      height: 32px;\n",
              "      padding: 0 0 0 0;\n",
              "      width: 32px;\n",
              "    }\n",
              "\n",
              "    .colab-df-convert:hover {\n",
              "      background-color: #E2EBFA;\n",
              "      box-shadow: 0px 1px 2px rgba(60, 64, 67, 0.3), 0px 1px 3px 1px rgba(60, 64, 67, 0.15);\n",
              "      fill: #174EA6;\n",
              "    }\n",
              "\n",
              "    [theme=dark] .colab-df-convert {\n",
              "      background-color: #3B4455;\n",
              "      fill: #D2E3FC;\n",
              "    }\n",
              "\n",
              "    [theme=dark] .colab-df-convert:hover {\n",
              "      background-color: #434B5C;\n",
              "      box-shadow: 0px 1px 3px 1px rgba(0, 0, 0, 0.15);\n",
              "      filter: drop-shadow(0px 1px 2px rgba(0, 0, 0, 0.3));\n",
              "      fill: #FFFFFF;\n",
              "    }\n",
              "  </style>\n",
              "\n",
              "      <script>\n",
              "        const buttonEl =\n",
              "          document.querySelector('#df-8e8747cb-3dc4-4f90-8fe9-c5ab01f778ee button.colab-df-convert');\n",
              "        buttonEl.style.display =\n",
              "          google.colab.kernel.accessAllowed ? 'block' : 'none';\n",
              "\n",
              "        async function convertToInteractive(key) {\n",
              "          const element = document.querySelector('#df-8e8747cb-3dc4-4f90-8fe9-c5ab01f778ee');\n",
              "          const dataTable =\n",
              "            await google.colab.kernel.invokeFunction('convertToInteractive',\n",
              "                                                     [key], {});\n",
              "          if (!dataTable) return;\n",
              "\n",
              "          const docLinkHtml = 'Like what you see? Visit the ' +\n",
              "            '<a target=\"_blank\" href=https://colab.research.google.com/notebooks/data_table.ipynb>data table notebook</a>'\n",
              "            + ' to learn more about interactive tables.';\n",
              "          element.innerHTML = '';\n",
              "          dataTable['output_type'] = 'display_data';\n",
              "          await google.colab.output.renderOutput(dataTable, element);\n",
              "          const docLink = document.createElement('div');\n",
              "          docLink.innerHTML = docLinkHtml;\n",
              "          element.appendChild(docLink);\n",
              "        }\n",
              "      </script>\n",
              "    </div>\n",
              "  </div>\n",
              "  "
            ],
            "text/plain": [
              "   Código SII de la Comuna  Número de Manzana  Número de Predial\n",
              "0                     7101                  6                 15\n",
              "1                     7101                  6                 16\n",
              "2                     7101                  6                 17\n",
              "3                     7101                  6                 18\n",
              "4                     7101                  6                 23"
            ]
          },
          "execution_count": 3,
          "metadata": {},
          "output_type": "execute_result"
        }
      ],
      "source": [
        "df = pandas.read_csv('BRTMPCATASN_2022_2_07101', sep = '|')\n",
        "df.columns = [\"Código SII de la Comuna\", \"Número de Manzana\", \"Número de Predial\", \"Dirección o nombre del predio\", \"Avalúo fiscal total\", \"Contribución semestral (con aseo)\", \"Código de destino principal\", \"Avalúo exento de la propiedad\", \"Código SII de la Comuna Rol Bien Común 1\", \"Número de Manzana Rol Bien Común 1\", \"Número de predio Rol Bien Común 1\", \"Código SII de la Comuna Rol Bien Común 2\",\"Número de Manzana Rol Bien Común 2\", \"Número de predio Rol Bien Común 2\", \"Superficie total del terreno de la propiedad\"]\n",
        "#df.iloc[0:5,0:15]\n",
        "df.iloc[0:5,0:3]"
      ]
    },
    {
      "cell_type": "code",
      "execution_count": null,
      "metadata": {
        "colab": {
          "base_uri": "https://localhost:8080/"
        },
        "id": "q5p56Oeoobkc",
        "outputId": "a82c8a83-3e18-48a2-c794-e52cfc07e4a7"
      },
      "outputs": [
        {
          "name": "stdout",
          "output_type": "stream",
          "text": [
            "7101 6 15\n"
          ]
        }
      ],
      "source": [
        "comuna = df.iloc[0,0]\n",
        "manzana = df.iloc[0,1]\n",
        "predio = df.iloc[0,2]\n",
        "print(comuna, manzana, predio)"
      ]
    },
    {
      "cell_type": "code",
      "execution_count": null,
      "metadata": {
        "id": "1y7S9mRXc0Bc"
      },
      "outputs": [],
      "source": [
        "metadata = {\n",
        "    \"namespace\":\"cl.sii.sdi.lob.bbrr.mapas.data.api.interfaces.MapasFacadeService/getPredioNacional\",\n",
        "    \"conversationId\":\"UNAUTHENTICATED-CALL190.164.8.216\",\n",
        "    \"transactionId\":\"6522a1b5-272c-6dda-17ab-4d7697ce50ae\"\n",
        "    }\n",
        "\n",
        "    \n",
        "data = {\n",
        "    \"predio\":{\"comuna\":7101,\"manzana\":1325,\"predio\":5}, #usar variables para comuna, manzana y predio.\n",
        "    \"servicios\":[]\n",
        "    }\n"
      ]
    },
    {
      "cell_type": "code",
      "execution_count": null,
      "metadata": {
        "id": "wFqvf7gYc4k8"
      },
      "outputs": [],
      "source": [
        "resp = requests.post(url, json = { \n",
        "    \"data\" : data,\n",
        "    \"metaData\" : metadata\n",
        "})"
      ]
    },
    {
      "cell_type": "code",
      "execution_count": null,
      "metadata": {
        "colab": {
          "base_uri": "https://localhost:8080/"
        },
        "id": "1Ozyy04RdDeO",
        "outputId": "c53706b3-36ca-45a5-8203-d0de00fb0ce3"
      },
      "outputs": [
        {
          "data": {
            "text/plain": [
              "{'data': {'comuna': 7101,\n",
              "  'manzana': 1325,\n",
              "  'predio': 5,\n",
              "  'eacs': 14,\n",
              "  'eacano': 2022,\n",
              "  'eacsDescripcion': 'RAV NO AGRICOLA 2022',\n",
              "  'nombreProp': None,\n",
              "  'direccion': 'AVDA MANSO DE VELASCO 1460 APUMANQUE',\n",
              "  'nombreComuna': 'CURICÓ',\n",
              "  'destinoDescripcion': 'HABITACIONAL',\n",
              "  'rol': '1325-5',\n",
              "  'rut': None,\n",
              "  'dv': None,\n",
              "  'ubicacion': 'URBANA',\n",
              "  'tablaOrigen': 'PREDIOS_NACIONAL',\n",
              "  'procesoPrerol': None,\n",
              "  'medidaSup': 'm²',\n",
              "  'medidaSupConst': 'm²',\n",
              "  'periodo': 'SEGUNDO SEMESTRE DE 2022',\n",
              "  'existePredio': 1,\n",
              "  'comunaCnp': 7101,\n",
              "  'manzanaCnp': 1325,\n",
              "  'predioCnp': 5,\n",
              "  'valorTotal': 21201441,\n",
              "  'valorAfecto': 0,\n",
              "  'valorExento': 21201441,\n",
              "  'supTerreno': 0.0,\n",
              "  'supConsMt2': 0.0,\n",
              "  'supConsMt3': 0.0,\n",
              "  'ah': 'HBB038',\n",
              "  'ubicacionX': -34.973257,\n",
              "  'ubicacionY': -71.234751,\n",
              "  'predioNac': None,\n",
              "  'predioPublicado': {'id': 135257937,\n",
              "   'comuna': 7101,\n",
              "   'manzana': 1325,\n",
              "   'predio': 5,\n",
              "   'ubicacionX': 295991.10655,\n",
              "   'ubicacionY': 6127641.4734},\n",
              "  'datosAh': {'codigoAh': 'HBB038',\n",
              "   'comuna': 7101,\n",
              "   'ubicacionX': 296124.07761875,\n",
              "   'ubicacionY': 6127703.8217125,\n",
              "   'eac': 14,\n",
              "   'eacano': 2022,\n",
              "   'descripcionTXT': None,\n",
              "   'rangoSuperficie': ' 110 - 220 ',\n",
              "   'valorUnitario': 62866.0,\n",
              "   'mediana': 0.0,\n",
              "   'numeroMuestras': 0,\n",
              "   'coefVariacion': 0.0,\n",
              "   'medianaDep': 0.0,\n",
              "   'numeroMuestrasDep': 0,\n",
              "   'coefVariacionDep': 0.0,\n",
              "   'collapsed': True},\n",
              "  'agnoSancion': 2022,\n",
              "  'datosCapas': None},\n",
              " 'metaData': {'conversationId': 'UNAUTHENTICATED-CALL190.164.8.216',\n",
              "  'transactionId': '6522a1b5-272c-6dda-17ab-4d7697ce50ae',\n",
              "  'namespace': 'cl.sii.sdi.lob.bbrr.mapas.data.api.interfaces.MapasFacadeService/getPredioNacional',\n",
              "  'info': None,\n",
              "  'errors': None,\n",
              "  'page': None}}"
            ]
          },
          "execution_count": 14,
          "metadata": {},
          "output_type": "execute_result"
        }
      ],
      "source": [
        "resp.json()"
      ]
    },
    {
      "attachments": {},
      "cell_type": "markdown",
      "metadata": {},
      "source": [
        "service=WMS\n",
        "request=GetMap\n",
        "layers=sii%3ABR_CART_CURICO_WMS\n",
        "styles=PREDIOS_WMS_V0\n",
        "format=image%2Fpng\n",
        "transparent=true\n",
        "version=1.1.1\n",
        "comuna=7101   'ubicacionX': 296124.07761875,\n",
        "\n",
        "eac=0\n",
        "eacano=\n",
        "height=256\n",
        "width=256\n",
        "srs=EPSG%3A3857\n",
        "bbox=-7929883.062417325,-4160314.5755055724,-7929730.188360754,-4160161.7014490017\"\n",
        "\n",
        "\n",
        "HAY que obtener LAYER y STYLES\n",
        "\n",
        "el resto de la info ya se tiene, y hay que derivar el bbox en base a ubicacionX y ubicacionY"
      ]
    },
    {
      "cell_type": "code",
      "execution_count": 7,
      "metadata": {},
      "outputs": [
        {
          "data": {
            "image/png": "[encoded data removed]",
            "text/plain": [
              "<PIL.PngImagePlugin.PngImageFile image mode=RGBA size=256x256>"
            ]
          },
          "execution_count": 7,
          "metadata": {},
          "output_type": "execute_result"
        }
      ],
      "source": [
        "url = \"https://www4.sii.cl/mapasui/services/ui/wmsProxyService/call?service=WMS&request=GetMap&layers=sii%3ABR_CART_CURICO_WMS&styles=PREDIOS_WMS_V0&format=image%2Fpng&transparent=true&version=1.1.1&comuna=7101&eac=0&eacano=0&height=256&width=256&srs=EPSG%3A3857&bbox=-7929883.062417325,-4160314.5755055724,-7929730.188360754,-4160161.7014490017\"\n",
        "response = requests.get(url)\n",
        "Image.open(BytesIO(response.content))"
      ]
    }
  ],
  "metadata": {
    "colab": {
      "provenance": []
    },
    "kernelspec": {
      "display_name": "Python 3",
      "name": "python3"
    },
    "language_info": {
      "codemirror_mode": {
        "name": "ipython",
        "version": 3
      },
      "file_extension": ".py",
      "mimetype": "text/x-python",
      "name": "python",
      "nbconvert_exporter": "python",
      "pygments_lexer": "ipython3",
      "version": "3.10.10"
    }
  },
  "nbformat": 4,
  "nbformat_minor": 0
}
