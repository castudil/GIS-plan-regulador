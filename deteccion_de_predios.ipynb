{
  "nbformat": 4,
  "nbformat_minor": 0,
  "metadata": {
    "colab": {
      "provenance": [],
      "authorship_tag": "ABX9TyO3n2CMT4IzDHMKp+/hdBR3",
      "include_colab_link": true
    },
    "kernelspec": {
      "name": "python3",
      "display_name": "Python 3"
    },
    "language_info": {
      "name": "python"
    }
  },
  "cells": [
    {
      "cell_type": "markdown",
      "metadata": {
        "id": "view-in-github",
        "colab_type": "text"
      },
      "source": [
        "<a href=\"https://colab.research.google.com/github/castudil/GIS-plan-regulador/blob/main/deteccion_de_predios.ipynb\" target=\"_parent\"><img src=\"https://colab.research.google.com/assets/colab-badge.svg\" alt=\"Open In Colab\"/></a>"
      ]
    },
    {
      "cell_type": "code",
      "source": [
        "import cv2\n",
        "from geojson import Polygon"
      ],
      "metadata": {
        "colab": {
          "base_uri": "https://localhost:8080/",
          "height": 317
        },
        "id": "P-pBrTIthACR",
        "outputId": "22cfeee2-2be2-40a4-ed64-34b00c6e7edc"
      },
      "execution_count": 1,
      "outputs": [
        {
          "output_type": "error",
          "ename": "ModuleNotFoundError",
          "evalue": "ignored",
          "traceback": [
            "\u001b[0;31m---------------------------------------------------------------------------\u001b[0m",
            "\u001b[0;31mModuleNotFoundError\u001b[0m                       Traceback (most recent call last)",
            "\u001b[0;32m<ipython-input-1-b466a23fb326>\u001b[0m in \u001b[0;36m<module>\u001b[0;34m\u001b[0m\n\u001b[1;32m      1\u001b[0m \u001b[0;32mimport\u001b[0m \u001b[0mcv2\u001b[0m\u001b[0;34m\u001b[0m\u001b[0;34m\u001b[0m\u001b[0m\n\u001b[0;32m----> 2\u001b[0;31m \u001b[0;32mfrom\u001b[0m \u001b[0mgeojson\u001b[0m \u001b[0;32mimport\u001b[0m \u001b[0mPolygon\u001b[0m\u001b[0;34m\u001b[0m\u001b[0;34m\u001b[0m\u001b[0m\n\u001b[0m",
            "\u001b[0;31mModuleNotFoundError\u001b[0m: No module named 'geojson'",
            "",
            "\u001b[0;31m---------------------------------------------------------------------------\u001b[0;32m\nNOTE: If your import is failing due to a missing package, you can\nmanually install dependencies using either !pip or !apt.\n\nTo view examples of installing some common dependencies, click the\n\"Open Examples\" button below.\n\u001b[0;31m---------------------------------------------------------------------------\u001b[0m\n"
          ],
          "errorDetails": {
            "actions": [
              {
                "action": "open_url",
                "actionText": "Open Examples",
                "url": "/notebooks/snippets/importing_libraries.ipynb"
              }
            ]
          }
        }
      ]
    },
    {
      "cell_type": "code",
      "execution_count": null,
      "metadata": {
        "id": "D6hrtkSMg9Oc"
      },
      "outputs": [],
      "source": [
        "\n",
        "\n",
        "image = img = cv2.imread('sii_BR_CART_CURICO_WMS_3.png')\n",
        "\n",
        "gray = cv2.cvtColor(img, cv2.COLOR_BGR2GRAY)\n",
        "#thresh, black_white = cv2.threshold(gray, thresh1, thresh2, cv2.THRESH_BINARY)\n",
        "canny = cv2.Canny(gray, 210, 255)\n",
        "dilated = cv2.dilate(canny, None, iterations=1)\n",
        "\n",
        "#contours, hierarchy = cv2.findContours(dilated, cv2.RETR_LIST, cv2.CHAIN_APPROX_SIMPLE)\n",
        "\n",
        "contours, hierarchy = cv2.findContours(dilated, cv2.RETR_CCOMP, cv2.CHAIN_APPROX_SIMPLE)\n",
        "\n",
        "#cv2.drawContours(image, contours, -1, (0,255,0), 2)\n",
        "\n",
        "print(hierarchy)\n",
        "\n",
        "i = 0\n",
        "for cnt in contours:\n",
        "    hi = hierarchy[0][i]\n",
        "    i+=1\n",
        "    area = cv2.contourArea(cnt)\n",
        "    \n",
        "    if area < 200:\n",
        "        continue\n",
        "    \n",
        "    if hi[3] == -1:\n",
        "        continue\n",
        "\n",
        "    #Aproxima de forma cerca a poligonos comunes, pocos vertices\n",
        "    epsilon = 0.01*cv2.arcLength(cnt,True)\n",
        "    approx = cv2.approxPolyDP(cnt, epsilon, True)\n",
        "\n",
        "    poli = Polygon(approx.tolist())\n",
        "    \n",
        "    print(poli)\n",
        "    #print(\"len= \", len(approx))\n",
        "    cv2.drawContours(image, [approx], -1, (0,255,0), 2)\n",
        "    cv2.imshow('image',image)\n",
        "    cv2.waitKey(0) \n",
        "    \n",
        "\n",
        "    #print(area)\n",
        "    \"\"\"\n",
        "    print(cnt)\n",
        "    print(\"len= \", len(cnt))\n",
        "    cv2.drawContours(image, [cnt], -1, (0,255,0), 2)\n",
        "    cv2.imshow('image',image)\n",
        "    cv2.waitKey(0) \n",
        "    \"\"\"\n",
        "\n",
        "\n",
        "#cv2.imshow('gray',gray)\n",
        "#cv2.imshow('edge',edged)\n",
        "#cv2.imshow('dilated',dilated)\n",
        "#cv2.imshow('image',image)\n",
        "cv2.waitKey(0) \n",
        "cv2.destroyAllWindows()"
      ]
    }
  ]
}